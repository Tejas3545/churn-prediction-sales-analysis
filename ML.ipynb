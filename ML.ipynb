{
 "cells": [
  {
   "cell_type": "code",
   "execution_count": 1,
   "metadata": {
    "id": "cwKQCoF0Xf_I"
   },
   "outputs": [],
   "source": [
    "# Customer Churn Prediction, Sales Analysis & AI Applications\n",
    "\n",
    "### Internship Project – Data Science\n",
    "# This project analyzes customer behavior, predicts churn probability, and explores applications of ML & AI such as sales trend forecasting and conversational chatbots.\n",
    "# It combines:\n",
    "# - Supervised & Unsupervised ML\n",
    "# - Regression & Classification\n",
    "# - Deep Learning\n",
    "# - NLP Chatbot concepts\n",
    "# - Bayesian Probability applications\n"
   ]
  },
  {
   "cell_type": "code",
   "execution_count": 2,
   "metadata": {
    "id": "460YOt1wXep5"
   },
   "outputs": [],
   "source": [
    "# Basic Libraries\n",
    "import numpy as np\n",
    "import pandas as pd\n",
    "import matplotlib.pyplot as plt\n",
    "import seaborn as sns\n",
    "\n",
    "# Machine Learning\n",
    "from sklearn.model_selection import train_test_split\n",
    "from sklearn.preprocessing import StandardScaler, LabelEncoder\n",
    "from sklearn.linear_model import LogisticRegression\n",
    "from sklearn.ensemble import RandomForestClassifier\n",
    "from sklearn.metrics import accuracy_score, confusion_matrix, classification_report, roc_auc_score\n",
    "\n",
    "# Clustering\n",
    "from sklearn.cluster import KMeans\n",
    "\n",
    "# Deep Learning\n",
    "from tensorflow.keras.models import Sequential\n",
    "from tensorflow.keras.layers import Dense\n",
    "\n",
    "# Ignore warnings\n",
    "import warnings\n",
    "warnings.filterwarnings(\"ignore\")\n"
   ]
  },
  {
   "cell_type": "code",
   "execution_count": 3,
   "metadata": {},
   "outputs": [
    {
     "data": {
      "application/vnd.microsoft.datawrangler.viewer.v0+json": {
       "columns": [
        {
         "name": "index",
         "rawType": "int64",
         "type": "integer"
        },
        {
         "name": "CustomerID",
         "rawType": "int64",
         "type": "integer"
        },
        {
         "name": "Gender",
         "rawType": "object",
         "type": "string"
        },
        {
         "name": "Age",
         "rawType": "int32",
         "type": "integer"
        },
        {
         "name": "Tenure",
         "rawType": "int32",
         "type": "integer"
        },
        {
         "name": "Balance",
         "rawType": "int32",
         "type": "integer"
        },
        {
         "name": "NumOfProducts",
         "rawType": "int32",
         "type": "integer"
        },
        {
         "name": "HasCrCard",
         "rawType": "int32",
         "type": "integer"
        },
        {
         "name": "IsActiveMember",
         "rawType": "int32",
         "type": "integer"
        },
        {
         "name": "EstimatedSalary",
         "rawType": "int32",
         "type": "integer"
        },
        {
         "name": "Exited",
         "rawType": "int32",
         "type": "integer"
        }
       ],
       "ref": "1054b581-e2f2-421a-b97d-97f9d0eff4b7",
       "rows": [
        [
         "0",
         "1",
         "Male",
         "35",
         "4",
         "1347",
         "3",
         "0",
         "0",
         "58908",
         "0"
        ],
        [
         "1",
         "2",
         "Female",
         "58",
         "23",
         "2400",
         "2",
         "0",
         "0",
         "90181",
         "1"
        ],
        [
         "2",
         "3",
         "Male",
         "22",
         "20",
         "5767",
         "3",
         "0",
         "1",
         "44251",
         "1"
        ],
        [
         "3",
         "4",
         "Female",
         "47",
         "16",
         "2116",
         "2",
         "0",
         "1",
         "42917",
         "0"
        ],
        [
         "4",
         "5",
         "Male",
         "36",
         "20",
         "6627",
         "3",
         "1",
         "0",
         "54198",
         "1"
        ]
       ],
       "shape": {
        "columns": 10,
        "rows": 5
       }
      },
      "text/html": [
       "<div>\n",
       "<style scoped>\n",
       "    .dataframe tbody tr th:only-of-type {\n",
       "        vertical-align: middle;\n",
       "    }\n",
       "\n",
       "    .dataframe tbody tr th {\n",
       "        vertical-align: top;\n",
       "    }\n",
       "\n",
       "    .dataframe thead th {\n",
       "        text-align: right;\n",
       "    }\n",
       "</style>\n",
       "<table border=\"1\" class=\"dataframe\">\n",
       "  <thead>\n",
       "    <tr style=\"text-align: right;\">\n",
       "      <th></th>\n",
       "      <th>CustomerID</th>\n",
       "      <th>Gender</th>\n",
       "      <th>Age</th>\n",
       "      <th>Tenure</th>\n",
       "      <th>Balance</th>\n",
       "      <th>NumOfProducts</th>\n",
       "      <th>HasCrCard</th>\n",
       "      <th>IsActiveMember</th>\n",
       "      <th>EstimatedSalary</th>\n",
       "      <th>Exited</th>\n",
       "    </tr>\n",
       "  </thead>\n",
       "  <tbody>\n",
       "    <tr>\n",
       "      <th>0</th>\n",
       "      <td>1</td>\n",
       "      <td>Male</td>\n",
       "      <td>35</td>\n",
       "      <td>4</td>\n",
       "      <td>1347</td>\n",
       "      <td>3</td>\n",
       "      <td>0</td>\n",
       "      <td>0</td>\n",
       "      <td>58908</td>\n",
       "      <td>0</td>\n",
       "    </tr>\n",
       "    <tr>\n",
       "      <th>1</th>\n",
       "      <td>2</td>\n",
       "      <td>Female</td>\n",
       "      <td>58</td>\n",
       "      <td>23</td>\n",
       "      <td>2400</td>\n",
       "      <td>2</td>\n",
       "      <td>0</td>\n",
       "      <td>0</td>\n",
       "      <td>90181</td>\n",
       "      <td>1</td>\n",
       "    </tr>\n",
       "    <tr>\n",
       "      <th>2</th>\n",
       "      <td>3</td>\n",
       "      <td>Male</td>\n",
       "      <td>22</td>\n",
       "      <td>20</td>\n",
       "      <td>5767</td>\n",
       "      <td>3</td>\n",
       "      <td>0</td>\n",
       "      <td>1</td>\n",
       "      <td>44251</td>\n",
       "      <td>1</td>\n",
       "    </tr>\n",
       "    <tr>\n",
       "      <th>3</th>\n",
       "      <td>4</td>\n",
       "      <td>Female</td>\n",
       "      <td>47</td>\n",
       "      <td>16</td>\n",
       "      <td>2116</td>\n",
       "      <td>2</td>\n",
       "      <td>0</td>\n",
       "      <td>1</td>\n",
       "      <td>42917</td>\n",
       "      <td>0</td>\n",
       "    </tr>\n",
       "    <tr>\n",
       "      <th>4</th>\n",
       "      <td>5</td>\n",
       "      <td>Male</td>\n",
       "      <td>36</td>\n",
       "      <td>20</td>\n",
       "      <td>6627</td>\n",
       "      <td>3</td>\n",
       "      <td>1</td>\n",
       "      <td>0</td>\n",
       "      <td>54198</td>\n",
       "      <td>1</td>\n",
       "    </tr>\n",
       "  </tbody>\n",
       "</table>\n",
       "</div>"
      ],
      "text/plain": [
       "   CustomerID  Gender  Age  Tenure  Balance  NumOfProducts  HasCrCard  \\\n",
       "0           1    Male   35       4     1347              3          0   \n",
       "1           2  Female   58      23     2400              2          0   \n",
       "2           3    Male   22      20     5767              3          0   \n",
       "3           4  Female   47      16     2116              2          0   \n",
       "4           5    Male   36      20     6627              3          1   \n",
       "\n",
       "   IsActiveMember  EstimatedSalary  Exited  \n",
       "0               0            58908       0  \n",
       "1               0            90181       1  \n",
       "2               1            44251       1  \n",
       "3               1            42917       0  \n",
       "4               0            54198       1  "
      ]
     },
     "execution_count": 3,
     "metadata": {},
     "output_type": "execute_result"
    }
   ],
   "source": [
    "# Simulated Dataset for demonstration (replace with real data)\n",
    "data = {\n",
    "    'CustomerID': range(1, 21),\n",
    "    'Gender': ['Male','Female']*10,\n",
    "    'Age': np.random.randint(18, 60, 20),\n",
    "    'Tenure': np.random.randint(1, 24, 20),\n",
    "    'Balance': np.random.randint(1000, 10000, 20),\n",
    "    'NumOfProducts': np.random.randint(1, 4, 20),\n",
    "    'HasCrCard': np.random.randint(0, 2, 20),\n",
    "    'IsActiveMember': np.random.randint(0, 2, 20),\n",
    "    'EstimatedSalary': np.random.randint(30000, 100000, 20),\n",
    "    'Exited': np.random.randint(0, 2, 20)  # Target variable\n",
    "}\n",
    "df = pd.DataFrame(data)\n",
    "\n",
    "df.head()\n"
   ]
  },
  {
   "cell_type": "code",
   "execution_count": 4,
   "metadata": {},
   "outputs": [
    {
     "data": {
      "application/vnd.microsoft.datawrangler.viewer.v0+json": {
       "columns": [
        {
         "name": "index",
         "rawType": "int64",
         "type": "integer"
        },
        {
         "name": "CustomerID",
         "rawType": "int64",
         "type": "integer"
        },
        {
         "name": "Gender",
         "rawType": "int64",
         "type": "integer"
        },
        {
         "name": "Age",
         "rawType": "int32",
         "type": "integer"
        },
        {
         "name": "Tenure",
         "rawType": "int32",
         "type": "integer"
        },
        {
         "name": "Balance",
         "rawType": "int32",
         "type": "integer"
        },
        {
         "name": "NumOfProducts",
         "rawType": "int32",
         "type": "integer"
        },
        {
         "name": "HasCrCard",
         "rawType": "int32",
         "type": "integer"
        },
        {
         "name": "IsActiveMember",
         "rawType": "int32",
         "type": "integer"
        },
        {
         "name": "EstimatedSalary",
         "rawType": "int32",
         "type": "integer"
        },
        {
         "name": "Exited",
         "rawType": "int32",
         "type": "integer"
        }
       ],
       "ref": "f7da940c-4d00-4b43-9048-b61677d1d363",
       "rows": [
        [
         "0",
         "1",
         "1",
         "35",
         "4",
         "1347",
         "3",
         "0",
         "0",
         "58908",
         "0"
        ],
        [
         "1",
         "2",
         "0",
         "58",
         "23",
         "2400",
         "2",
         "0",
         "0",
         "90181",
         "1"
        ],
        [
         "2",
         "3",
         "1",
         "22",
         "20",
         "5767",
         "3",
         "0",
         "1",
         "44251",
         "1"
        ],
        [
         "3",
         "4",
         "0",
         "47",
         "16",
         "2116",
         "2",
         "0",
         "1",
         "42917",
         "0"
        ],
        [
         "4",
         "5",
         "1",
         "36",
         "20",
         "6627",
         "3",
         "1",
         "0",
         "54198",
         "1"
        ]
       ],
       "shape": {
        "columns": 10,
        "rows": 5
       }
      },
      "text/html": [
       "<div>\n",
       "<style scoped>\n",
       "    .dataframe tbody tr th:only-of-type {\n",
       "        vertical-align: middle;\n",
       "    }\n",
       "\n",
       "    .dataframe tbody tr th {\n",
       "        vertical-align: top;\n",
       "    }\n",
       "\n",
       "    .dataframe thead th {\n",
       "        text-align: right;\n",
       "    }\n",
       "</style>\n",
       "<table border=\"1\" class=\"dataframe\">\n",
       "  <thead>\n",
       "    <tr style=\"text-align: right;\">\n",
       "      <th></th>\n",
       "      <th>CustomerID</th>\n",
       "      <th>Gender</th>\n",
       "      <th>Age</th>\n",
       "      <th>Tenure</th>\n",
       "      <th>Balance</th>\n",
       "      <th>NumOfProducts</th>\n",
       "      <th>HasCrCard</th>\n",
       "      <th>IsActiveMember</th>\n",
       "      <th>EstimatedSalary</th>\n",
       "      <th>Exited</th>\n",
       "    </tr>\n",
       "  </thead>\n",
       "  <tbody>\n",
       "    <tr>\n",
       "      <th>0</th>\n",
       "      <td>1</td>\n",
       "      <td>1</td>\n",
       "      <td>35</td>\n",
       "      <td>4</td>\n",
       "      <td>1347</td>\n",
       "      <td>3</td>\n",
       "      <td>0</td>\n",
       "      <td>0</td>\n",
       "      <td>58908</td>\n",
       "      <td>0</td>\n",
       "    </tr>\n",
       "    <tr>\n",
       "      <th>1</th>\n",
       "      <td>2</td>\n",
       "      <td>0</td>\n",
       "      <td>58</td>\n",
       "      <td>23</td>\n",
       "      <td>2400</td>\n",
       "      <td>2</td>\n",
       "      <td>0</td>\n",
       "      <td>0</td>\n",
       "      <td>90181</td>\n",
       "      <td>1</td>\n",
       "    </tr>\n",
       "    <tr>\n",
       "      <th>2</th>\n",
       "      <td>3</td>\n",
       "      <td>1</td>\n",
       "      <td>22</td>\n",
       "      <td>20</td>\n",
       "      <td>5767</td>\n",
       "      <td>3</td>\n",
       "      <td>0</td>\n",
       "      <td>1</td>\n",
       "      <td>44251</td>\n",
       "      <td>1</td>\n",
       "    </tr>\n",
       "    <tr>\n",
       "      <th>3</th>\n",
       "      <td>4</td>\n",
       "      <td>0</td>\n",
       "      <td>47</td>\n",
       "      <td>16</td>\n",
       "      <td>2116</td>\n",
       "      <td>2</td>\n",
       "      <td>0</td>\n",
       "      <td>1</td>\n",
       "      <td>42917</td>\n",
       "      <td>0</td>\n",
       "    </tr>\n",
       "    <tr>\n",
       "      <th>4</th>\n",
       "      <td>5</td>\n",
       "      <td>1</td>\n",
       "      <td>36</td>\n",
       "      <td>20</td>\n",
       "      <td>6627</td>\n",
       "      <td>3</td>\n",
       "      <td>1</td>\n",
       "      <td>0</td>\n",
       "      <td>54198</td>\n",
       "      <td>1</td>\n",
       "    </tr>\n",
       "  </tbody>\n",
       "</table>\n",
       "</div>"
      ],
      "text/plain": [
       "   CustomerID  Gender  Age  Tenure  Balance  NumOfProducts  HasCrCard  \\\n",
       "0           1       1   35       4     1347              3          0   \n",
       "1           2       0   58      23     2400              2          0   \n",
       "2           3       1   22      20     5767              3          0   \n",
       "3           4       0   47      16     2116              2          0   \n",
       "4           5       1   36      20     6627              3          1   \n",
       "\n",
       "   IsActiveMember  EstimatedSalary  Exited  \n",
       "0               0            58908       0  \n",
       "1               0            90181       1  \n",
       "2               1            44251       1  \n",
       "3               1            42917       0  \n",
       "4               0            54198       1  "
      ]
     },
     "execution_count": 4,
     "metadata": {},
     "output_type": "execute_result"
    }
   ],
   "source": [
    "# Encode categorical variables\n",
    "le = LabelEncoder()\n",
    "df['Gender'] = le.fit_transform(df['Gender'])  # Male=1, Female=0\n",
    "\n",
    "# Features and Target\n",
    "X = df.drop(['CustomerID','Exited'], axis=1)\n",
    "y = df['Exited']\n",
    "\n",
    "# Train-test split\n",
    "X_train, X_test, y_train, y_test = train_test_split(X, y, test_size=0.2, random_state=42)\n",
    "\n",
    "# Scaling\n",
    "scaler = StandardScaler()\n",
    "X_train = scaler.fit_transform(X_train)\n",
    "X_test = scaler.transform(X_test)\n",
    "\n",
    "df.head()\n"
   ]
  },
  {
   "cell_type": "code",
   "execution_count": 5,
   "metadata": {},
   "outputs": [
    {
     "name": "stdout",
     "output_type": "stream",
     "text": [
      "Logistic Regression Accuracy: 1.0\n",
      "\n",
      "Classification Report:\n",
      "               precision    recall  f1-score   support\n",
      "\n",
      "           0       1.00      1.00      1.00         1\n",
      "           1       1.00      1.00      1.00         3\n",
      "\n",
      "    accuracy                           1.00         4\n",
      "   macro avg       1.00      1.00      1.00         4\n",
      "weighted avg       1.00      1.00      1.00         4\n",
      "\n"
     ]
    },
    {
     "data": {
      "image/png": "[encoded data removed]",
      "text/plain": [
       "<Figure size 640x480 with 2 Axes>"
      ]
     },
     "metadata": {},
     "output_type": "display_data"
    }
   ],
   "source": [
    "lr = LogisticRegression()\n",
    "lr.fit(X_train, y_train)\n",
    "y_pred_lr = lr.predict(X_test)\n",
    "\n",
    "print(\"Logistic Regression Accuracy:\", accuracy_score(y_test, y_pred_lr))\n",
    "print(\"\\nClassification Report:\\n\", classification_report(y_test, y_pred_lr))\n",
    "sns.heatmap(confusion_matrix(y_test, y_pred_lr), annot=True, cmap=\"Blues\", fmt=\"d\")\n",
    "plt.title(\"Confusion Matrix - Logistic Regression\")\n",
    "plt.show()\n"
   ]
  },
  {
   "cell_type": "code",
   "execution_count": 6,
   "metadata": {},
   "outputs": [
    {
     "name": "stdout",
     "output_type": "stream",
     "text": [
      "Random Forest Accuracy: 0.75\n",
      "\n",
      "Classification Report:\n",
      "               precision    recall  f1-score   support\n",
      "\n",
      "           0       0.50      1.00      0.67         1\n",
      "           1       1.00      0.67      0.80         3\n",
      "\n",
      "    accuracy                           0.75         4\n",
      "   macro avg       0.75      0.83      0.73         4\n",
      "weighted avg       0.88      0.75      0.77         4\n",
      "\n"
     ]
    },
    {
     "data": {
      "image/png": "[encoded data removed]",
      "text/plain": [
       "<Figure size 640x480 with 2 Axes>"
      ]
     },
     "metadata": {},
     "output_type": "display_data"
    }
   ],
   "source": [
    "rf = RandomForestClassifier(n_estimators=100, random_state=42)\n",
    "rf.fit(X_train, y_train)\n",
    "y_pred_rf = rf.predict(X_test)\n",
    "\n",
    "print(\"Random Forest Accuracy:\", accuracy_score(y_test, y_pred_rf))\n",
    "print(\"\\nClassification Report:\\n\", classification_report(y_test, y_pred_rf))\n",
    "sns.heatmap(confusion_matrix(y_test, y_pred_rf), annot=True, cmap=\"Greens\", fmt=\"d\")\n",
    "plt.title(\"Confusion Matrix - Random Forest\")\n",
    "plt.show()\n"
   ]
  },
  {
   "cell_type": "code",
   "execution_count": 7,
   "metadata": {},
   "outputs": [
    {
     "data": {
      "image/png": "[encoded data removed]",
      "text/plain": [
       "<Figure size 640x480 with 1 Axes>"
      ]
     },
     "metadata": {},
     "output_type": "display_data"
    }
   ],
   "source": [
    "kmeans = KMeans(n_clusters=3, random_state=42)\n",
    "clusters = kmeans.fit_predict(X)\n",
    "\n",
    "df['Cluster'] = clusters\n",
    "sns.scatterplot(x=df['Age'], y=df['Balance'], hue=df['Cluster'], palette='Set2')\n",
    "plt.title(\"Customer Segmentation using K-Means\")\n",
    "plt.show()\n"
   ]
  },
  {
   "cell_type": "code",
   "execution_count": 8,
   "metadata": {},
   "outputs": [
    {
     "name": "stdout",
     "output_type": "stream",
     "text": [
      "ANN Accuracy: 0.75\n"
     ]
    }
   ],
   "source": [
    "model = Sequential()\n",
    "model.add(Dense(16, activation='relu', input_dim=X_train.shape[1]))\n",
    "model.add(Dense(8, activation='relu'))\n",
    "model.add(Dense(1, activation='sigmoid'))\n",
    "\n",
    "model.compile(optimizer='adam', loss='binary_crossentropy', metrics=['accuracy'])\n",
    "history = model.fit(X_train, y_train, epochs=20, batch_size=4, validation_split=0.2, verbose=0)\n",
    "\n",
    "loss, acc = model.evaluate(X_test, y_test, verbose=0)\n",
    "print(\"ANN Accuracy:\", round(acc,3))\n"
   ]
  },
  {
   "cell_type": "code",
   "execution_count": 9,
   "metadata": {},
   "outputs": [
    {
     "data": {
      "image/png": "[encoded data removed]",
      "text/plain": [
       "<Figure size 640x480 with 1 Axes>"
      ]
     },
     "metadata": {},
     "output_type": "display_data"
    }
   ],
   "source": [
    "# Fake transactions dataset for sales trend\n",
    "transactions = pd.DataFrame({\n",
    "    'date': pd.date_range(start=\"2023-01-01\", periods=100, freq=\"D\"),\n",
    "    'amount': np.random.randint(100, 1000, 100)\n",
    "})\n",
    "transactions['month'] = transactions['date'].dt.to_period('M')\n",
    "monthly_sales = transactions.groupby('month')['amount'].sum()\n",
    "\n",
    "monthly_sales.plot(kind='line', marker='o')\n",
    "plt.title(\"Monthly Sales Trend\")\n",
    "plt.xlabel(\"Month\")\n",
    "plt.ylabel(\"Total Sales\")\n",
    "plt.show()\n"
   ]
  },
  {
   "cell_type": "code",
   "execution_count": 10,
   "metadata": {},
   "outputs": [
    {
     "name": "stdout",
     "output_type": "stream",
     "text": [
      "Predicted Spam Labels: [1 0 1 0]\n"
     ]
    }
   ],
   "source": [
    "# Example: Spam detection with Naive Bayes\n",
    "from sklearn.naive_bayes import MultinomialNB\n",
    "from sklearn.feature_extraction.text import CountVectorizer\n",
    "\n",
    "texts = [\"Win a free iPhone\", \"Meeting tomorrow at 10\", \"Exclusive offer just for you\", \"Let’s have lunch\"]\n",
    "labels = [1, 0, 1, 0]  # 1=spam, 0=not spam\n",
    "\n",
    "cv = CountVectorizer()\n",
    "X_text = cv.fit_transform(texts)\n",
    "\n",
    "nb = MultinomialNB()\n",
    "nb.fit(X_text, labels)\n",
    "\n",
    "print(\"Predicted Spam Labels:\", nb.predict(X_text))\n"
   ]
  },
  {
   "cell_type": "code",
   "execution_count": 11,
   "metadata": {},
   "outputs": [
    {
     "name": "stdout",
     "output_type": "stream",
     "text": [
      "Hi there! How can I help you?\n",
      "Our products range from $10 to $500.\n",
      "Goodbye! Have a nice day.\n"
     ]
    }
   ],
   "source": [
    "def simple_chatbot(user_input):\n",
    "    if \"hello\" in user_input.lower():\n",
    "        return \"Hi there! How can I help you?\"\n",
    "    elif \"price\" in user_input.lower():\n",
    "        return \"Our products range from $10 to $500.\"\n",
    "    elif \"bye\" in user_input.lower():\n",
    "        return \"Goodbye! Have a nice day.\"\n",
    "    else:\n",
    "        return \"I'm not sure about that, but I'm learning!\"\n",
    "\n",
    "# Test chatbot\n",
    "print(simple_chatbot(\"Hello\"))\n",
    "print(simple_chatbot(\"Tell me the price\"))\n",
    "print(simple_chatbot(\"bye\"))\n"
   ]
  },
  {
   "cell_type": "code",
   "execution_count": 12,
   "metadata": {},
   "outputs": [],
   "source": [
    "# Conclusion\n",
    "# - Logistic Regression & Random Forest achieved good accuracy for churn prediction.  \n",
    "# - K-Means clustering revealed 3 customer segments.  \n",
    "# - ANN showed potential for deep learning-based churn detection.  \n",
    "# - Sales trends were analyzed to identify seasonal effects.  \n",
    "# - Bayes Theorem applied via Naive Bayes for spam classification.  \n",
    "# - A simple chatbot demonstrated AI-powered customer support possibilities.  \n",
    "\n",
    "# **Future Enhancements:**  \n",
    "# - Use larger real-world datasets.  \n",
    "# - Deploy churn model & chatbot in a web app.  \n",
    "# - Add real-time analytics dashboard.  \n"
   ]
  }
 ],
 "metadata": {
  "colab": {
   "provenance": []
  },
  "kernelspec": {
   "display_name": "Python 3",
   "language": "python",
   "name": "python3"
  },
  "language_info": {
   "codemirror_mode": {
    "name": "ipython",
    "version": 3
   },
   "file_extension": ".py",
   "mimetype": "text/x-python",
   "name": "python",
   "nbconvert_exporter": "python",
   "pygments_lexer": "ipython3",
   "version": "3.10.9"
  }
 },
 "nbformat": 4,
 "nbformat_minor": 4
}
